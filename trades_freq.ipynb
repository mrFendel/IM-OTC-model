{
 "cells": [
  {
   "cell_type": "code",
   "execution_count": 2,
   "id": "initial_id",
   "metadata": {
    "collapsed": true,
    "ExecuteTime": {
     "end_time": "2023-10-26T07:10:31.274480Z",
     "start_time": "2023-10-26T07:10:29.536136Z"
    }
   },
   "outputs": [],
   "source": [
    "import pandas as pd\n",
    "import numpy as np\n",
    "from glob import glob\n",
    "from tqdm import  tqdm\n",
    "from matplotlib import pyplot as plt"
   ]
  },
  {
   "cell_type": "markdown",
   "source": [
    "#### Cleaning data from first two rows\n",
    "\n",
    "\n",
    "[CppMonk Tutorial](https://www.youtube.com/playlist?list=PLvKAPIGzFEr8n7WRx8RptZmC1rXeTzYtA)\n",
    "[HABR1](https://habr.com/ru/articles/166693/)\n",
    "[HABR](https://habr.com/ru/articles/140274/)\n",
    "[WIKI](https://en.wikipedia.org/wiki/Kalman_filter)\n",
    "\n",
    "# Smoothing Kalman\n",
    "\n",
    "**Goal:** \n",
    "estimate $x_t \\ & \\ v_t$\n",
    "given measurements $Z = x_t + \\epsilon_t$\n",
    "$$\n",
    "\\begin{align}\n",
    "X_t = \\begin{bmatrix}\n",
    "   x_{t} \\\\\n",
    "   v_{t} \\\\\n",
    " \\end{bmatrix} \\quad\n",
    " Z_t = \\begin{bmatrix}\n",
    "   z_{t} \\\\\n",
    " \\end{bmatrix}\n",
    "\\end{align}\n",
    "\n",
    "$$\n",
    "**Time evolution**\n",
    "$$ x_{t+1} = x_t + v_t \\delta t + \\frac{1}{2}a \\delta t^2; \\quad  v_{t+1} = v_t + a \\delta t$$\n",
    "\n",
    "$$\n",
    "X_{t+1} = \\begin{bmatrix}\n",
    "  1 & \\delta t \\\\\n",
    "  0 & 1 \\\\\n",
    " \\end{bmatrix} X_t \n",
    " \\ + \\ \n",
    " \\begin{bmatrix}\n",
    "  \\frac{1}{2}\\delta t^2 \\\\\n",
    "  \\delta t \\\\\n",
    " \\end{bmatrix} = F \\cdot X_t + G \\cdot a \n",
    "$$\n",
    "\n",
    " **Assumptions:** acceleration and error are noise.\n",
    "\t$$ a, \\epsilon \\ - \\ N(0, \\Sigma)$$\n",
    "\n",
    "$$ \n",
    "Z_t = \\begin{bmatrix} 1 & 0 \\end{bmatrix} X_t + \\epsilon_t = H \\cdot X_t  + \\epsilon_t\n",
    "$$\n",
    "\n",
    "**Prediction step**\n",
    "$$\n",
    "X_{t} - N(X_t, P_t)\n",
    "$$\n",
    "$$\n",
    "X_{t+1} = F X_t; \\quad\n",
    "P_{t+1} = F P_t F^T + G \\Sigma^2_a G^T\n",
    "$$\n",
    "**Measurement Step**\n",
    "$$Y = Z_t - H \\cdot X_t \\ \\text{- error between measurement and prediction}$$\n",
    "$$S_t = H \\cdot P_t \\cdot H^T + \\Sigma^2_a \\text{ - error of covariance estimate}$$\n",
    "$$ K = P_t \\cdot H^T \\cdot S^{-1}_t \\text{ - optimal Kalman step}$$\n",
    "$$ X^{udated}_t = X_t + K \\cdot Y \\text{ - updated location step} $$\n",
    "$$ P^{updated}_t = [I - K \\cdot H] \\cdot P_t \\text{ - updated covariance} $$\n",
    "\n",
    "\n",
    "# Cointegration Kalman\n",
    "\n",
    "**Goal:** \n",
    "estimate $x_t \\ and \\ v_t$ - intercept and $\\frac{\\sigma_2}{\\sigma_1} corr$\n",
    "assuming that $r_2 = x + v \\cdot r_1 + \\epsilon^{\\prime}$\n",
    "$$\n",
    "\\begin{align}\n",
    "X_t = \\begin{bmatrix}\n",
    "   x_{t} \\\\\n",
    "   v_{t} \\\\\n",
    " \\end{bmatrix} \\quad\n",
    " Z_t = \\begin{bmatrix}\n",
    "   z_{t} \\\\\n",
    " \\end{bmatrix} = r^2_t\n",
    "\\end{align}\n",
    "\n",
    "$$\n",
    "\n",
    "**Transition model**\n",
    "$$ X_{t+1} = F \\cdot X_t + \\epsilon_x$$\n",
    "$$ F = \\begin{bmatrix}\n",
    "  1 & 0 \\\\\n",
    "  0 & 1 \\\\\n",
    " \\end{bmatrix}; \n",
    " \\quad \\epsilon_x - N(0, Q); \n",
    " \\quad Q = \\begin{bmatrix}\n",
    "  \\delta_{x} & 0 \\\\\n",
    "  0 & \\delta_{v} \\\\\n",
    " \\end{bmatrix} $$\n",
    " \n",
    " **Observation Model**\t\n",
    "$$ \n",
    "r^2_t = Z_t = H \\cdot X_t  + \\epsilon_t\n",
    "$$\n",
    "$$ H = [1 \\quad r^1_t]; \\quad \\epsilon_x - N(0, R);  \\quad R = \\begin{bmatrix}\n",
    "  1 & 0 \\\\\n",
    "  0 & 1 \\\\\n",
    " \\end{bmatrix}$$\n",
    " \n",
    "**Prediction step**\n",
    "$$\n",
    "X_{t} - N(X_t, P_t)\n",
    "$$\n",
    "$$\n",
    "X_{t+1} = F X_t; \\quad\n",
    "P_{t+1} = F P_t F^T + Q\n",
    "$$\n",
    "\n",
    "**Measurement Step**\n",
    "$$Y = Z_t - H \\cdot X_t \\ \\text{- error between measurement and prediction}$$\n",
    "$$S_t = H \\cdot P_t \\cdot H^T + R \\text{ - error of covariance estimate}$$\n",
    "$$ K = P_t \\cdot H^T \\cdot S^{-1}_t \\text{ - optimal Kalman step}$$\n",
    "$$ X^{udated}_t = X_t + K \\cdot Y \\text{ - updated location step} $$\n",
    "$$ P^{updated}_t = [I - K \\cdot H] \\cdot P_t \\text{ - updated covariance} $$\n",
    "\n"
   ],
   "metadata": {
    "collapsed": false
   },
   "id": "c9da8e52fcb4683e"
  },
  {
   "cell_type": "code",
   "execution_count": 3,
   "outputs": [],
   "source": [
    "root = 'data/3/CK_trades/trades/**/*.csv'\n",
    "paths = glob(root)\n",
    "\n",
    "def clean(path):\n",
    "    with open(path, \"r+\") as f:\n",
    "        rows = f.readlines()\n",
    "        f.seek(0)\n",
    "        f.truncate()\n",
    "        f.writelines(rows[2:])\n",
    "\n",
    "# for p in tqdm(paths[1:]):\n",
    "#     clean(p)"
   ],
   "metadata": {
    "collapsed": false,
    "ExecuteTime": {
     "end_time": "2023-10-26T07:10:31.278461Z",
     "start_time": "2023-10-26T07:10:31.274966Z"
    }
   },
   "id": "1fcb80e25742b86e"
  },
  {
   "cell_type": "markdown",
   "source": [
    "### Reading data"
   ],
   "metadata": {
    "collapsed": false
   },
   "id": "c433416bf9fe9096"
  },
  {
   "cell_type": "code",
   "execution_count": 4,
   "outputs": [
    {
     "name": "stderr",
     "output_type": "stream",
     "text": [
      "  0%|          | 0/11 [00:00<?, ?it/s]/var/folders/r_/xvc889350jb1wjh3s9_zfq4m0000gn/T/ipykernel_17551/4074210982.py:3: DtypeWarning: Columns (5) have mixed types. Specify dtype option on import or set low_memory=False.\n",
      "  df = pd.read_csv(path, sep=';')\n",
      " 55%|█████▍    | 6/11 [00:36<00:30,  6.12s/it]/var/folders/r_/xvc889350jb1wjh3s9_zfq4m0000gn/T/ipykernel_17551/4074210982.py:3: DtypeWarning: Columns (5) have mixed types. Specify dtype option on import or set low_memory=False.\n",
      "  df = pd.read_csv(path, sep=';')\n",
      " 82%|████████▏ | 9/11 [00:54<00:11,  5.88s/it]/var/folders/r_/xvc889350jb1wjh3s9_zfq4m0000gn/T/ipykernel_17551/4074210982.py:3: DtypeWarning: Columns (5) have mixed types. Specify dtype option on import or set low_memory=False.\n",
      "  df = pd.read_csv(path, sep=';')\n",
      "100%|██████████| 11/11 [01:03<00:00,  5.74s/it]\n"
     ]
    },
    {
     "data": {
      "text/plain": "           TRADEDATE TRADETIME         SECID BOARDID    PRICE VOLCUR  \\\n0         03.01.2022  06:59:50  USD000UTSTOM    CETS    74,68   1000   \n1         03.01.2022  06:59:50  USD000UTSTOM    CETS    74,68   1000   \n2         03.01.2022  06:59:50  USD000UTSTOM    CETS    74,68   4000   \n3         03.01.2022  06:59:50  USD000UTSTOM    CETS    74,68   1000   \n4         03.01.2022  06:59:50  USD000UTSTOM    CETS    74,68   1000   \n...              ...       ...           ...     ...      ...    ...   \n10159535  31.01.2022  23:49:59  USD000UTSTOM    CETS    77,32   1000   \n10159536  31.01.2022  23:49:59  USD000UTSTOM    CETS  77,3175   1000   \n10159537  31.01.2022  23:49:59  USD000UTSTOM    CETS   77,315  50000   \n10159538  31.01.2022  23:49:59  USD000UTSTOM    CETS   77,315   1000   \n10159539  31.01.2022  23:49:59  USD000UTSTOM    CETS   77,315  34000   \n\n         INVCURVOL BUYSELL    TRADENO  \n0            74680       B  428694391  \n1            74680       B  428694392  \n2           298720       B  428694393  \n3            74680       B  428694394  \n4            74680       B  428694395  \n...            ...     ...        ...  \n10159535     77320       S  440912463  \n10159536   77317,5       S  440912464  \n10159537   3865750       S  440912465  \n10159538     77315       S  440912466  \n10159539   2628710       S  440912467  \n\n[10159540 rows x 9 columns]",
      "text/html": "<div>\n<style scoped>\n    .dataframe tbody tr th:only-of-type {\n        vertical-align: middle;\n    }\n\n    .dataframe tbody tr th {\n        vertical-align: top;\n    }\n\n    .dataframe thead th {\n        text-align: right;\n    }\n</style>\n<table border=\"1\" class=\"dataframe\">\n  <thead>\n    <tr style=\"text-align: right;\">\n      <th></th>\n      <th>TRADEDATE</th>\n      <th>TRADETIME</th>\n      <th>SECID</th>\n      <th>BOARDID</th>\n      <th>PRICE</th>\n      <th>VOLCUR</th>\n      <th>INVCURVOL</th>\n      <th>BUYSELL</th>\n      <th>TRADENO</th>\n    </tr>\n  </thead>\n  <tbody>\n    <tr>\n      <th>0</th>\n      <td>03.01.2022</td>\n      <td>06:59:50</td>\n      <td>USD000UTSTOM</td>\n      <td>CETS</td>\n      <td>74,68</td>\n      <td>1000</td>\n      <td>74680</td>\n      <td>B</td>\n      <td>428694391</td>\n    </tr>\n    <tr>\n      <th>1</th>\n      <td>03.01.2022</td>\n      <td>06:59:50</td>\n      <td>USD000UTSTOM</td>\n      <td>CETS</td>\n      <td>74,68</td>\n      <td>1000</td>\n      <td>74680</td>\n      <td>B</td>\n      <td>428694392</td>\n    </tr>\n    <tr>\n      <th>2</th>\n      <td>03.01.2022</td>\n      <td>06:59:50</td>\n      <td>USD000UTSTOM</td>\n      <td>CETS</td>\n      <td>74,68</td>\n      <td>4000</td>\n      <td>298720</td>\n      <td>B</td>\n      <td>428694393</td>\n    </tr>\n    <tr>\n      <th>3</th>\n      <td>03.01.2022</td>\n      <td>06:59:50</td>\n      <td>USD000UTSTOM</td>\n      <td>CETS</td>\n      <td>74,68</td>\n      <td>1000</td>\n      <td>74680</td>\n      <td>B</td>\n      <td>428694394</td>\n    </tr>\n    <tr>\n      <th>4</th>\n      <td>03.01.2022</td>\n      <td>06:59:50</td>\n      <td>USD000UTSTOM</td>\n      <td>CETS</td>\n      <td>74,68</td>\n      <td>1000</td>\n      <td>74680</td>\n      <td>B</td>\n      <td>428694395</td>\n    </tr>\n    <tr>\n      <th>...</th>\n      <td>...</td>\n      <td>...</td>\n      <td>...</td>\n      <td>...</td>\n      <td>...</td>\n      <td>...</td>\n      <td>...</td>\n      <td>...</td>\n      <td>...</td>\n    </tr>\n    <tr>\n      <th>10159535</th>\n      <td>31.01.2022</td>\n      <td>23:49:59</td>\n      <td>USD000UTSTOM</td>\n      <td>CETS</td>\n      <td>77,32</td>\n      <td>1000</td>\n      <td>77320</td>\n      <td>S</td>\n      <td>440912463</td>\n    </tr>\n    <tr>\n      <th>10159536</th>\n      <td>31.01.2022</td>\n      <td>23:49:59</td>\n      <td>USD000UTSTOM</td>\n      <td>CETS</td>\n      <td>77,3175</td>\n      <td>1000</td>\n      <td>77317,5</td>\n      <td>S</td>\n      <td>440912464</td>\n    </tr>\n    <tr>\n      <th>10159537</th>\n      <td>31.01.2022</td>\n      <td>23:49:59</td>\n      <td>USD000UTSTOM</td>\n      <td>CETS</td>\n      <td>77,315</td>\n      <td>50000</td>\n      <td>3865750</td>\n      <td>S</td>\n      <td>440912465</td>\n    </tr>\n    <tr>\n      <th>10159538</th>\n      <td>31.01.2022</td>\n      <td>23:49:59</td>\n      <td>USD000UTSTOM</td>\n      <td>CETS</td>\n      <td>77,315</td>\n      <td>1000</td>\n      <td>77315</td>\n      <td>S</td>\n      <td>440912466</td>\n    </tr>\n    <tr>\n      <th>10159539</th>\n      <td>31.01.2022</td>\n      <td>23:49:59</td>\n      <td>USD000UTSTOM</td>\n      <td>CETS</td>\n      <td>77,315</td>\n      <td>34000</td>\n      <td>2628710</td>\n      <td>S</td>\n      <td>440912467</td>\n    </tr>\n  </tbody>\n</table>\n<p>10159540 rows × 9 columns</p>\n</div>"
     },
     "execution_count": 4,
     "metadata": {},
     "output_type": "execute_result"
    }
   ],
   "source": [
    "df_list = []\n",
    "for path in tqdm(paths):\n",
    "    df = pd.read_csv(path, sep=';')\n",
    "    df_list.append(df)\n",
    "    \n",
    "df_list[0]"
   ],
   "metadata": {
    "collapsed": false,
    "ExecuteTime": {
     "end_time": "2023-10-26T07:11:34.493184Z",
     "start_time": "2023-10-26T07:10:31.278579Z"
    }
   },
   "id": "87a4cb58215faaac"
  },
  {
   "cell_type": "code",
   "execution_count": 5,
   "outputs": [
    {
     "data": {
      "text/plain": "<Axes: ylabel='Frequency'>"
     },
     "execution_count": 5,
     "metadata": {},
     "output_type": "execute_result"
    },
    {
     "data": {
      "text/plain": "<Figure size 640x480 with 1 Axes>",
      "image/png": "[encoded data removed]"
     },
     "metadata": {},
     "output_type": "display_data"
    }
   ],
   "source": [
    "df = df_list[0]\n",
    "values, counts = np.unique(df.SECID.values, return_counts=True)\n",
    "stat = pd.DataFrame({'SECID' : values, 'COUNT' : counts})\n",
    "stat.COUNT.plot.hist(bins=20)"
   ],
   "metadata": {
    "collapsed": false,
    "ExecuteTime": {
     "end_time": "2023-10-26T07:11:39.811937Z",
     "start_time": "2023-10-26T07:11:34.398363Z"
    }
   },
   "id": "bf34915852b3045a"
  },
  {
   "cell_type": "code",
   "execution_count": 6,
   "outputs": [
    {
     "data": {
      "text/plain": "           SECID  COUNT\n0     BYNRUB_TOD     12\n1     BYNRUB_TOM      5\n2   CHFRUBTODTOM    636\n3     CHFRUB_TOD     76\n4     CHFRUB_TOM  28316\n..           ...    ...\n62  USDRUB_TOM3M     10\n63  USDRUB_TOM6M      6\n64  USDRUB_TOM9M      6\n65   USDRUB_WAP0     91\n66   USDRUB_WAPV      2\n\n[67 rows x 2 columns]",
      "text/html": "<div>\n<style scoped>\n    .dataframe tbody tr th:only-of-type {\n        vertical-align: middle;\n    }\n\n    .dataframe tbody tr th {\n        vertical-align: top;\n    }\n\n    .dataframe thead th {\n        text-align: right;\n    }\n</style>\n<table border=\"1\" class=\"dataframe\">\n  <thead>\n    <tr style=\"text-align: right;\">\n      <th></th>\n      <th>SECID</th>\n      <th>COUNT</th>\n    </tr>\n  </thead>\n  <tbody>\n    <tr>\n      <th>0</th>\n      <td>BYNRUB_TOD</td>\n      <td>12</td>\n    </tr>\n    <tr>\n      <th>1</th>\n      <td>BYNRUB_TOM</td>\n      <td>5</td>\n    </tr>\n    <tr>\n      <th>2</th>\n      <td>CHFRUBTODTOM</td>\n      <td>636</td>\n    </tr>\n    <tr>\n      <th>3</th>\n      <td>CHFRUB_TOD</td>\n      <td>76</td>\n    </tr>\n    <tr>\n      <th>4</th>\n      <td>CHFRUB_TOM</td>\n      <td>28316</td>\n    </tr>\n    <tr>\n      <th>...</th>\n      <td>...</td>\n      <td>...</td>\n    </tr>\n    <tr>\n      <th>62</th>\n      <td>USDRUB_TOM3M</td>\n      <td>10</td>\n    </tr>\n    <tr>\n      <th>63</th>\n      <td>USDRUB_TOM6M</td>\n      <td>6</td>\n    </tr>\n    <tr>\n      <th>64</th>\n      <td>USDRUB_TOM9M</td>\n      <td>6</td>\n    </tr>\n    <tr>\n      <th>65</th>\n      <td>USDRUB_WAP0</td>\n      <td>91</td>\n    </tr>\n    <tr>\n      <th>66</th>\n      <td>USDRUB_WAPV</td>\n      <td>2</td>\n    </tr>\n  </tbody>\n</table>\n<p>67 rows × 2 columns</p>\n</div>"
     },
     "execution_count": 6,
     "metadata": {},
     "output_type": "execute_result"
    }
   ],
   "source": [
    "stat"
   ],
   "metadata": {
    "collapsed": false,
    "ExecuteTime": {
     "end_time": "2023-10-26T07:11:39.858713Z",
     "start_time": "2023-10-26T07:11:39.820707Z"
    }
   },
   "id": "d09c14680df2e77a"
  }
 ],
 "metadata": {
  "kernelspec": {
   "display_name": "Python 3",
   "language": "python",
   "name": "python3"
  },
  "language_info": {
   "codemirror_mode": {
    "name": "ipython",
    "version": 2
   },
   "file_extension": ".py",
   "mimetype": "text/x-python",
   "name": "python",
   "nbconvert_exporter": "python",
   "pygments_lexer": "ipython2",
   "version": "2.7.6"
  }
 },
 "nbformat": 4,
 "nbformat_minor": 5
}
